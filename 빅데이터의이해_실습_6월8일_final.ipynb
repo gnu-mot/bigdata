{
  "cells": [
    {
      "cell_type": "markdown",
      "metadata": {
        "id": "W7SkuFOyOg-J"
      },
      "source": [
        "# **빅데이터의 이해 - 실습 (2022년 6월 8일)**\n",
        "\n",
        "대학원 기술경영학과 (Management of Technology) - 송지훈 교수"
      ]
    },
    {
      "cell_type": "markdown",
      "metadata": {
        "id": "2V2F5W95Opm3"
      },
      "source": [
        "**독학(self-study) 및 실습을 위한 팁**\\\n",
        "✅ You can only learn data science by doing data science. (실제로 코드를 구현해 봐야 합니다.) \\\n",
        "✅ Practice, practice, practice. (연습하고 또 연습하세요, 강의만으로는 모든 세세한 내용을 전부 다룰수 없습니다.)\\\n",
        "✅ Free resources everywhere. (인터넷상에는 수많은 무료 데이터 분석 또는 프로그래밍 관련 공부를 할 수 있는 많은 자료들이 존재 합니다. 적극적으로 찾아서 이용하세요.)"
      ]
    },
    {
      "cell_type": "markdown",
      "metadata": {
        "id": "6W_YOxQ8PIs8"
      },
      "source": [
        "**구글코랩**: 브라우저에서 python 코드를 작성하고 실행을 가능하게 해주는 클라우드 기반의 jupyter notebook.\\\n",
        "자세한 내용은 다음 사이트 참조: https://colab.research.google.com/?hl=ko#scrollTo=P-H6Lw1vyNNd"
      ]
    },
    {
      "cell_type": "markdown",
      "metadata": {
        "id": "WIfHz7UIigXF"
      },
      "source": [
        "# **프로젝트1: 이미지 분류 어플리케이션 (image classifier application) 생성 및 배포하기**"
      ]
    },
    {
      "cell_type": "markdown",
      "metadata": {
        "id": "KHD1v0Lviq0E"
      },
      "source": [
        "🔺 (입력 데이터: 이미지) ▶▶ (모델/ 앱) ▶▶ (출력 데이터: 분류된 이미지 - 라벨링)\n",
        "\n",
        "🔺 다음의 과정을 거쳐 image classifier application 생성 및 배포\n",
        "\n",
        "1.   gradio 라이브러리 설치 (라이브러리:특정 기능들(함수, 변수, 클래쓰)이 구현되어는 파이썬 파일 )\n",
        "2.   분류하고자 하는 이미지 다운받기 (또는 불러오기)\n",
        "3.   필요한 라이브러리 불러오기\n",
        "4.   모델 생성하기\n",
        "5.   웹 어플리케이션 생성 및 배포\n",
        "6.   웹 어플리케이션 사용\n",
        "\n",
        "\n"
      ]
    },
    {
      "cell_type": "markdown",
      "metadata": {
        "id": "tugkH5vuNiMU"
      },
      "source": [
        "참고자료: https://www.tensorflow.org/tutorials/images/transfer_learning?hl=ko"
      ]
    },
    {
      "cell_type": "markdown",
      "metadata": {
        "id": "sRQIxfR7-mmt"
      },
      "source": [
        "## 1.필수 라이브러리 설치"
      ]
    },
    {
      "cell_type": "code",
      "execution_count": null,
      "metadata": {
        "id": "sTFPp2wSh7qC"
      },
      "outputs": [],
      "source": [
        "# gradio 라이브러리 설치\n",
        "# 분류 모델을 웹으로 배포하기 위해 필요한 라이브러리\n",
        "!pip install -q gradio"
      ]
    },
    {
      "cell_type": "markdown",
      "metadata": {
        "id": "JZ4dnaPd-sTr"
      },
      "source": [
        "## 2.이미지 불러오기 또는 웹에서 다운받기"
      ]
    },
    {
      "cell_type": "code",
      "execution_count": null,
      "metadata": {
        "id": "JGKVTKpcpPLM"
      },
      "outputs": [],
      "source": [
        "# 이미지는 미리 구글 드라이브에 저장"
      ]
    },
    {
      "cell_type": "markdown",
      "metadata": {
        "id": "Wx5Ls13M-xoE"
      },
      "source": [
        "## 3.필요한 라이브러리 불러오기"
      ]
    },
    {
      "cell_type": "code",
      "execution_count": null,
      "metadata": {
        "id": "m6J9K974hwPm"
      },
      "outputs": [],
      "source": [
        "# 필요한 라이브러리 불러오기\n",
        "import gradio as gr\n",
        "import tensorflow as tf # 딥러닝 위한 라이브러리\n",
        "import numpy as np # 수학적 계산을 위한 라이브러리 + 이미지 처리를 위해 사용\n",
        "import cv2 # 이미지 처리를 위한 라이브러리\n",
        "import matplotlib.pyplot as plt # 이미지/그림 시각화를 위한 라이브러리\n",
        "from keras.applications.mobilenet_v2 import preprocess_input # 딥러닝 모델(mobilenetv2)을 위한 데이터 전처리 과정\n",
        "from keras.applications.mobilenet_v2 import decode_predictions # 딥러닝 모델(mobilenetv2) 해석을 위한 과정\n",
        "import requests # 웹사이트를 불러오기 위한 라이브러리"
      ]
    },
    {
      "cell_type": "markdown",
      "metadata": {
        "id": "jiwfNOIi-1Jz"
      },
      "source": [
        "## 3-1. 이미지 불러오기"
      ]
    },
    {
      "cell_type": "code",
      "execution_count": null,
      "metadata": {
        "id": "tWA3-VW5vCnM"
      },
      "outputs": [],
      "source": [
        "# 이미지 불러오기\n",
        "img_basic = cv2.imread('/content/drive/MyDrive/images/chippy1.jpg', cv2.IMREAD_COLOR) \n",
        "print(img_basic.shape) # 세로, 가로, RGB 색"
      ]
    },
    {
      "cell_type": "code",
      "execution_count": null,
      "metadata": {
        "id": "PDeLVkVl1w7T"
      },
      "outputs": [],
      "source": [
        "print(img_basic)"
      ]
    },
    {
      "cell_type": "code",
      "execution_count": null,
      "metadata": {
        "id": "GHbBgToQvQEz"
      },
      "outputs": [],
      "source": [
        "plt.imshow(cv2.cvtColor(img_basic, cv2.COLOR_BGR2RGB)) # 일반적으로 이미지는 RGB (Red-Green-Blue) 형태로 저장이 되지만, cv2를 이용하면 BGR\n",
        "plt.show()"
      ]
    },
    {
      "cell_type": "code",
      "execution_count": null,
      "metadata": {
        "id": "eNKz_VygyWzr"
      },
      "outputs": [],
      "source": [
        "# 흑백으로 바꾸기 \n",
        "그림흑백 = cv2.cvtColor(img_basic ,cv2.COLOR_BGR2GRAY)\n",
        "plt.imshow(그림흑백, cmap='gray') # \n",
        "plt.show()"
      ]
    },
    {
      "cell_type": "markdown",
      "metadata": {
        "id": "eJto2zxm-_ne"
      },
      "source": [
        "## 3-2. 이미지 크기 조절"
      ]
    },
    {
      "cell_type": "code",
      "execution_count": null,
      "metadata": {
        "id": "J3jtpnb1vB3g"
      },
      "outputs": [],
      "source": [
        "# 이미지 크기 조절\n",
        "# 크기를 조정해야 하는 이유: 모델을 학습하기 위해서는 특정한 크기의 이미지가 필요\n",
        "# dsize = 가로 세로 형태 조정\n",
        "# interploation = 변경된 이미지 픽셀 사이의 값을 결정\n",
        "다람쥐1 = cv2.imread('/content/drive/MyDrive/images/chippy1.jpg')\n",
        "res1 = cv2.resize(다람쥐1, dsize=(224, 224), interpolation=cv2.INTER_CUBIC)\n",
        "res2 = cv2.resize(다람쥐1, dsize=(224, 224), interpolation=cv2.INTER_AREA) # 방법이 조금더 자연스러워 보임\n",
        "plt.subplot(1, 2, 1) # 1행 2열에서 1번째 열\n",
        "plt.imshow(cv2.cvtColor(res1, cv2.COLOR_BGR2RGB))\n",
        "plt.subplot(1, 2, 2) # 1행 2열에서 2번째 열\n",
        "plt.imshow(cv2.cvtColor(res2, cv2.COLOR_BGR2RGB))\n",
        "plt.show()"
      ]
    },
    {
      "cell_type": "code",
      "execution_count": null,
      "metadata": {
        "id": "cVwyYDFG1ckN"
      },
      "outputs": [],
      "source": [
        "print(res2.shape)"
      ]
    },
    {
      "cell_type": "code",
      "execution_count": null,
      "metadata": {
        "id": "FYFmoUVbh28j"
      },
      "outputs": [],
      "source": [
        "data = np.empty((1,224,224,3)) # 숫자 1의 의미: 하나의 이미지만 사용해서 모델에, 224(이미지의 높이, 세로), 224(이미지의 너비, 가로), 3:RGB color\n",
        "data[0] = res2"
      ]
    },
    {
      "cell_type": "code",
      "execution_count": null,
      "metadata": {
        "id": "mVrClIhMuRjh"
      },
      "outputs": [],
      "source": [
        "data"
      ]
    },
    {
      "cell_type": "code",
      "execution_count": null,
      "metadata": {
        "id": "Ow0bbtLs2TT_"
      },
      "outputs": [],
      "source": [
        "print(data.min(), data.max())"
      ]
    },
    {
      "cell_type": "code",
      "execution_count": null,
      "metadata": {
        "id": "J3zhd1A44Pmn"
      },
      "outputs": [],
      "source": [
        "data_new = preprocess_input(data) # 변환 작업이 필요, 모델은 [-1, 1]의 픽셀 값을 예상\n",
        "data_new"
      ]
    },
    {
      "cell_type": "markdown",
      "metadata": {
        "id": "YRpQNeWv_Hkh"
      },
      "source": [
        "## 4.모델 생성하기 + 이미지 분류 하기\n"
      ]
    },
    {
      "cell_type": "code",
      "execution_count": null,
      "metadata": {
        "id": "cLyeYuCmnWQa"
      },
      "outputs": [],
      "source": [
        "# MobileNetV2는 사전에 학습된 신경망 (neural network) 모델을 활용해 이미지 분류를 수행\n",
        "# (pre-trained neural network model)\n",
        "# MobileNetV2: 모바일 기기에 활용되기 적합한 모델로 상대적으로 \"가볍다\"\n",
        "# model = tf.keras.applications.mobilenet_v2.MobileNetV2(weights='imagenet')\n",
        "model = tf.keras.applications.MobileNetV2()"
      ]
    },
    {
      "cell_type": "code",
      "execution_count": null,
      "metadata": {
        "id": "KCB0wmSTpnzK"
      },
      "outputs": [],
      "source": [
        "model.summary()"
      ]
    },
    {
      "cell_type": "code",
      "execution_count": null,
      "metadata": {
        "id": "ecEg8EErpt6n"
      },
      "outputs": [],
      "source": [
        "predictions = model.predict(data_new)"
      ]
    },
    {
      "cell_type": "code",
      "execution_count": null,
      "metadata": {
        "id": "Ky4NYLu-4iu-"
      },
      "outputs": [],
      "source": [
        "predictions"
      ]
    },
    {
      "cell_type": "code",
      "execution_count": null,
      "metadata": {
        "id": "QuQOh79L4n3h"
      },
      "outputs": [],
      "source": [
        "predictions.shape # 1의 의미: 1개의 이미지를 활용해 예측, 1000: 1000개의 뉴런이 output layer에 존재"
      ]
    },
    {
      "cell_type": "code",
      "execution_count": null,
      "metadata": {
        "id": "gcpPY-b74slv"
      },
      "outputs": [],
      "source": [
        "np.argmax(predictions, axis =1) # 몇 번째 인덱스에 제일 높은 값이 들어있는지 반환"
      ]
    },
    {
      "cell_type": "code",
      "execution_count": null,
      "metadata": {
        "id": "ERDRLL_y5Jco"
      },
      "outputs": [],
      "source": [
        "predictions[0][335]"
      ]
    },
    {
      "cell_type": "code",
      "execution_count": null,
      "metadata": {
        "id": "EJENJSyy5rC6"
      },
      "outputs": [],
      "source": [
        "for name, desc, score in decode_predictions(predictions, top=5)[0]:\n",
        "  print(f\"{desc}: {score*100}%\")"
      ]
    },
    {
      "cell_type": "markdown",
      "metadata": {
        "id": "DrRNasqzup74"
      },
      "source": [
        "## 4.1 다른 이미지로 테스트"
      ]
    },
    {
      "cell_type": "code",
      "execution_count": null,
      "metadata": {
        "id": "cqC1ekYguPza"
      },
      "outputs": [],
      "source": [
        "# 치타 이미지 불러오기\n",
        "img_basic = cv2.imread('/content/drive/MyDrive/images/cheetah.jpg', cv2.IMREAD_COLOR) \n",
        "plt.imshow(cv2.cvtColor(img_basic, cv2.COLOR_BGR2RGB)) # \n",
        "plt.show()"
      ]
    },
    {
      "cell_type": "code",
      "execution_count": null,
      "metadata": {
        "id": "yZVnLn6AuVPn"
      },
      "outputs": [],
      "source": [
        "# 이미지 크기 조절\n",
        "# 크기를 조정해야 하는 이유: 모델을 학습하기 위해서는 특정한 크기의 이미지가 필요\n",
        "# dsize = 가로 세로 형태 조정\n",
        "# interploation = 변경된 이미지 픽셀 사이의 값을 결정\n",
        "치타 = cv2.imread('/content/drive/MyDrive/images/cheetah.jpg')\n",
        "res1 = cv2.resize(치타, dsize=(224, 224), interpolation=cv2.INTER_CUBIC) # 방법이 조금더 자연스러워 보임\n",
        "res2 = cv2.resize(치타, dsize=(224, 224), interpolation=cv2.INTER_AREA) \n",
        "plt.subplot(1, 2, 1) # 1행 2열에서 1번째 열\n",
        "plt.imshow(cv2.cvtColor(res1, cv2.COLOR_BGR2RGB))\n",
        "plt.subplot(1, 2, 2) # 1행 2열에서 2번째 열\n",
        "plt.imshow(cv2.cvtColor(res2, cv2.COLOR_BGR2RGB))\n",
        "plt.show()"
      ]
    },
    {
      "cell_type": "code",
      "execution_count": null,
      "metadata": {
        "id": "jtfqUk4BugaC"
      },
      "outputs": [],
      "source": [
        "data = np.empty((1,224,224,3)) \n",
        "data[0] = res1\n",
        "data_new = preprocess_input(data)\n",
        "model = tf.keras.applications.MobileNetV2(weights='imagenet')\n",
        "predictions = model.predict(data_new)\n",
        "for name, desc, score in decode_predictions(predictions, top=5)[0]:\n",
        "  print(f\"{desc}: {score*100}%\")"
      ]
    },
    {
      "cell_type": "markdown",
      "metadata": {
        "id": "4d-8ZSzBussC"
      },
      "source": [
        "## 4.2 다른 이미지로 테스트"
      ]
    },
    {
      "cell_type": "code",
      "execution_count": null,
      "metadata": {
        "id": "Qq0GDKwM6uSv"
      },
      "outputs": [],
      "source": [
        "# 축구공 이미지 불러오기\n",
        "img_basic = cv2.imread('/content/drive/MyDrive/images/ball.jpg', cv2.IMREAD_COLOR) \n",
        "plt.imshow(cv2.cvtColor(img_basic, cv2.COLOR_BGR2RGB)) # \n",
        "plt.show()"
      ]
    },
    {
      "cell_type": "code",
      "execution_count": null,
      "metadata": {
        "id": "Zdbe4Ya_75F4"
      },
      "outputs": [],
      "source": [
        "# 이미지 크기 조절\n",
        "# 크기를 조정해야 하는 이유: 모델을 학습하기 위해서는 특정한 크기의 이미지가 필요\n",
        "# dsize = 가로 세로 형태 조정\n",
        "# interploation = 변경된 이미지 픽셀 사이의 값을 결정\n",
        "축구공 = cv2.imread('/content/drive/MyDrive/images/ball.jpg')\n",
        "res1 = cv2.resize(축구공, dsize=(224, 224), interpolation=cv2.INTER_CUBIC)\n",
        "res2 = cv2.resize(축구공, dsize=(224, 224), interpolation=cv2.INTER_AREA) # 방법이 조금더 자연스러워 보임\n",
        "plt.subplot(1, 2, 1) # 1행 2열에서 1번째 열\n",
        "plt.imshow(cv2.cvtColor(res1, cv2.COLOR_BGR2RGB))\n",
        "plt.subplot(1, 2, 2) # 1행 2열에서 2번째 열\n",
        "plt.imshow(cv2.cvtColor(res2, cv2.COLOR_BGR2RGB))\n",
        "plt.show()"
      ]
    },
    {
      "cell_type": "code",
      "execution_count": null,
      "metadata": {
        "id": "Ck6vOwPE8YFd"
      },
      "outputs": [],
      "source": [
        "data = np.empty((1,224,224,3)) \n",
        "data[0] = res2\n",
        "data_new = preprocess_input(data)\n",
        "model = tf.keras.applications.MobileNetV2(weights='imagenet')\n",
        "predictions = model.predict(data_new)\n",
        "for name, desc, score in decode_predictions(predictions, top=5)[0]:\n",
        "  print(f\"{desc}: {score*100}%\")"
      ]
    },
    {
      "cell_type": "markdown",
      "metadata": {
        "id": "GmOkn4WawvDJ"
      },
      "source": [
        "## 4.3 이미지 분류 과정 함수화"
      ]
    },
    {
      "cell_type": "markdown",
      "metadata": {
        "id": "6vDasD9QYcTa"
      },
      "source": [
        "상대적으로 분류기의 성능이 떨어지는 느낌. 이유는 이미지 크기를 조절함에 있어서, 비율조정에 문제(?)."
      ]
    },
    {
      "cell_type": "code",
      "execution_count": null,
      "metadata": {
        "id": "n6BwJip0aZQS"
      },
      "outputs": [],
      "source": [
        "response = requests.get(\"https://git.io/JJkYN\")\n",
        "labels = response.text.split(\"\\n\")\n",
        "print(type(labels))\n",
        "print(labels[:10]) # 이미지의 레이블들을 저장 (미리 학습된 내용)"
      ]
    },
    {
      "cell_type": "code",
      "execution_count": null,
      "metadata": {
        "id": "yTxdYzQAw2vm"
      },
      "outputs": [],
      "source": [
        "def predict_image(img):\n",
        "  img_input=img.reshape(1,224,224,3) # 이미지를 입력받아 사이즈를 재조정\n",
        "  data_new = preprocess_input(img_input)\n",
        "  predictions = model.predict(data_new).flatten()\n",
        "  return {labels[i]: float(predictions[i]) for i in range(1000)}"
      ]
    },
    {
      "cell_type": "markdown",
      "metadata": {
        "id": "Snhggqar_Woq"
      },
      "source": [
        "## 5.웹 어플리케이션 생성 및 배포"
      ]
    },
    {
      "cell_type": "code",
      "execution_count": null,
      "metadata": {
        "id": "LW4Vfq3lbH4Y"
      },
      "outputs": [],
      "source": [
        "iface = gr.Interface(\n",
        "    predict_image, \n",
        "    gr.inputs.Image(shape=(224, 224)), \n",
        "    gr.outputs.Label(num_top_classes=5),\n",
        "    interpretation=\"default\",\n",
        "   examples=[\n",
        "        [\"/content/drive/MyDrive/images/dog.jpg\"],\n",
        "        [\"/content/drive/MyDrive/images/cheetah.jpg\"],\n",
        "        [\"/content/drive/MyDrive/images/ball.jpg\"]\n",
        "    ])"
      ]
    },
    {
      "cell_type": "markdown",
      "metadata": {
        "id": "mx-Xn7pR_ZvK"
      },
      "source": [
        "## 6.웹 어플리케이션 사용"
      ]
    },
    {
      "cell_type": "code",
      "execution_count": null,
      "metadata": {
        "id": "8l9lvr50_clT"
      },
      "outputs": [],
      "source": [
        "iface.launch(debug=True)"
      ]
    },
    {
      "cell_type": "code",
      "execution_count": null,
      "metadata": {
        "id": "W7Bd4xZrdg_G"
      },
      "outputs": [],
      "source": [
        "iface.close()"
      ]
    },
    {
      "cell_type": "markdown",
      "metadata": {
        "id": "eCvfb8Qde58R"
      },
      "source": [
        "## **추가설명**"
      ]
    },
    {
      "cell_type": "code",
      "execution_count": null,
      "metadata": {
        "id": "JD-R2hqndhra"
      },
      "outputs": [],
      "source": [
        "# 추가설명\n",
        "from keras.preprocessing import image\n",
        "test_image = image.load_img(\"/content/drive/MyDrive/images/chippy1.jpg\", target_size = (224,224))\n",
        "test_image = image.img_to_array(test_image)\n",
        "test_image"
      ]
    },
    {
      "cell_type": "code",
      "execution_count": null,
      "metadata": {
        "id": "GoWsQbH8esJE"
      },
      "outputs": [],
      "source": [
        "predictions = predict_image(test_image)\n",
        "predictions"
      ]
    },
    {
      "cell_type": "code",
      "execution_count": null,
      "metadata": {
        "id": "kCf7jyZne0bh"
      },
      "outputs": [],
      "source": [
        "import pandas as pd\n",
        "df = pd.DataFrame(list(predictions.items()), columns =['Label','scores'])\n",
        "df.head()"
      ]
    },
    {
      "cell_type": "code",
      "execution_count": null,
      "metadata": {
        "id": "6CwDJV3ufrvP"
      },
      "outputs": [],
      "source": [
        "df['scores'] = df['scores'].round(decimals = 4)"
      ]
    },
    {
      "cell_type": "code",
      "execution_count": null,
      "metadata": {
        "id": "LgCypIdhfO5u"
      },
      "outputs": [],
      "source": [
        "df.sort_values(by=['scores'], ascending=False)"
      ]
    },
    {
      "cell_type": "markdown",
      "metadata": {
        "id": "J-p9GQvrh5Ec"
      },
      "source": [
        "# **프로젝트2: 타이타닉 생존자 예측하기 (생존자를 예측하는 머신러닝 모델 구현)**\n",
        "\n",
        "지도학습의 일종으로, \"binary classification\" 문제"
      ]
    },
    {
      "cell_type": "markdown",
      "metadata": {
        "id": "GzYpEK6qi3ji"
      },
      "source": [
        "https://dacon.io/ (한국어)\n",
        "\n",
        "https://www.kaggle.com/ (영어)"
      ]
    },
    {
      "cell_type": "markdown",
      "metadata": {
        "id": "a3wkxHmD4nz1"
      },
      "source": [
        "**데이터 분석을 잘 하는 방법**: \"구글링(구글 검색)을 잘하기\" + \"다른 사람의 코드를 보고 학습\""
      ]
    },
    {
      "cell_type": "markdown",
      "metadata": {
        "id": "TIsntv71k5WP"
      },
      "source": [
        "## 1.라이브러리 불러오기"
      ]
    },
    {
      "cell_type": "code",
      "execution_count": null,
      "metadata": {
        "id": "4_ObZN0rk7Xw"
      },
      "outputs": [],
      "source": [
        "import pandas as pd # 엑셀과 같은 기능을 구현해주는 데이터 사이언스를 위한 필수 라이브러리\n",
        "import numpy as np\n",
        "import matplotlib.pyplot as plt # 시각화 라이브러리\n",
        "import seaborn as sns # 시각화 라이브러리\n",
        "import gradio as gr\n",
        "import warnings # warning 문구가 나오는걸 방지하기 위함\n",
        "warnings.filterwarnings(\"ignore\")"
      ]
    },
    {
      "cell_type": "markdown",
      "metadata": {
        "id": "0p1IEUIkk2i1"
      },
      "source": [
        "## 2.데이터 불러오기"
      ]
    },
    {
      "cell_type": "code",
      "execution_count": null,
      "metadata": {
        "id": "rcaa4AD0h8VM"
      },
      "outputs": [],
      "source": [
        "# 웹 공간에서 직접 데이터를 불러옴\n",
        "data = pd.read_csv('https://raw.githubusercontent.com/gradio-app/titanic/master/train.csv') "
      ]
    },
    {
      "cell_type": "code",
      "execution_count": null,
      "metadata": {
        "id": "LFcdwt6DlA7r"
      },
      "outputs": [],
      "source": [
        "data.shape # 데이터의 형태를 나타냄 (행과 열): 총 891 행과 12개의 열로 이루어진 데이터"
      ]
    },
    {
      "cell_type": "markdown",
      "metadata": {
        "id": "NCKtsuB-3Oy_"
      },
      "source": [
        "## 3.데이터 탐색(EDA, Exploratory Data Analysis)"
      ]
    },
    {
      "cell_type": "code",
      "execution_count": null,
      "metadata": {
        "id": "Jj7veZtLlBuQ"
      },
      "outputs": [],
      "source": [
        "data.head() # 데이터의 앞 부분 첫 5개의 행을 출력"
      ]
    },
    {
      "cell_type": "markdown",
      "metadata": {
        "id": "YPWNanpp5wMo"
      },
      "source": [
        "* PassengerId : 탑승객의 고유 아이디\n",
        "* Survied : 생존여부(0: 사망, 1: 생존)\n",
        "* Pclass : 등실의 등급(1: 1등석, 2: 2등석, 3: 3등석)\n",
        "* Name : 이름\n",
        "* Sex : 성별\n",
        "* Age : 나이\n",
        "* Sibsp : 함께 탑승한 형제자매, 아내 남편의 수\n",
        "* Parch: 함께 탑승한 부모, 자식의 수\n",
        "* Ticket: 티켓번호\n",
        "* Fare: 티켓의 요금\n",
        "* Cabin: 객실번호\n",
        "* Embarked: 배에 탑승한 위치(C = Cherbourg, Q = Queenstown, S = Southampton)"
      ]
    },
    {
      "cell_type": "code",
      "execution_count": null,
      "metadata": {
        "id": "7FHu9DpLxEiU"
      },
      "outputs": [],
      "source": [
        "data.info() # 데이터 프레임의 기본 정보를 출력"
      ]
    },
    {
      "cell_type": "code",
      "execution_count": null,
      "metadata": {
        "id": "Er1i-BwbxY0c"
      },
      "outputs": [],
      "source": [
        "data.isnull().sum() # 결측치 확인"
      ]
    },
    {
      "cell_type": "markdown",
      "metadata": {
        "id": "nc3nt5zQ559n"
      },
      "source": [
        "**나이, 객실번호, 탑승 위치 에 데이터가 부재**"
      ]
    },
    {
      "cell_type": "code",
      "execution_count": null,
      "metadata": {
        "id": "XYEWGfutxdP_"
      },
      "outputs": [],
      "source": [
        "# 생존자 예측의 문제\n",
        "data.groupby(\"Survived\").size().reset_index(name = 'count')\n",
        "# 0: 사망\n",
        "# 1: 생존"
      ]
    },
    {
      "cell_type": "code",
      "execution_count": null,
      "metadata": {
        "id": "lqvI6U-s326u"
      },
      "outputs": [],
      "source": [
        "f,ax = plt.subplots(figsize=(8,8)) # 그림의 사이즈 조정 (figsize)\n",
        "ax = sns.countplot('Survived',data=data,palette='mako') # palette를 용해 색깔 조정\n",
        "# 그래프들은 훨씬 더 깔끔하게 작성이 가능\n",
        "# 추가적인 파라미터들이 필요 (지금은 생략)"
      ]
    },
    {
      "cell_type": "code",
      "execution_count": null,
      "metadata": {
        "id": "dqusxOF24K69"
      },
      "outputs": [],
      "source": [
        "f,ax = plt.subplots(figsize=(10,8))\n",
        "ax = sns.countplot('Survived',data=data,palette='mako', hue='Sex') "
      ]
    },
    {
      "cell_type": "code",
      "execution_count": null,
      "metadata": {
        "id": "JaDO4J4U49x5"
      },
      "outputs": [],
      "source": [
        "data.groupby(['Sex','Survived'])['Survived'].count().to_frame()"
      ]
    },
    {
      "cell_type": "code",
      "execution_count": null,
      "metadata": {
        "id": "zCZqg2Bj5MKB"
      },
      "outputs": [],
      "source": [
        "f,ax = plt.subplots(figsize=(10,8))\n",
        "ax = sns.countplot('Pclass',data=data,palette='mako', hue='Sex')"
      ]
    },
    {
      "cell_type": "code",
      "execution_count": null,
      "metadata": {
        "id": "mVBxFtLA6kcO"
      },
      "outputs": [],
      "source": [
        "plt.figure(figsize=(10,8))\n",
        "sns.factorplot('Pclass','Survived',hue='Sex',data=data, palette='mako')"
      ]
    },
    {
      "cell_type": "code",
      "execution_count": null,
      "metadata": {
        "id": "hmCiuDqh7xfK"
      },
      "outputs": [],
      "source": [
        "pd.crosstab([data['Sex'],data['Survived']],data['Pclass'],margins=True).style.background_gradient(cmap='Reds')\n",
        "# Pclass의 경우, 순서가 있는 카테고리 (ordinal features)"
      ]
    },
    {
      "cell_type": "code",
      "execution_count": null,
      "metadata": {
        "id": "YZeQmG6_-ekq"
      },
      "outputs": [],
      "source": [
        "# 탑승지역: S지역 (Southampton)\n",
        "# 범주형 데이터로 처리 (categorical data)\n",
        "f,ax = plt.subplots(1,3,figsize=(20,8))\n",
        "sns.countplot('Embarked',data=data,palette='mako', hue='Sex', ax=ax[0])\n",
        "ax[0].set_title('Embarked and Sex')\n",
        "sns.countplot('Embarked',data=data,palette='mako', hue='Survived', ax=ax[1])\n",
        "ax[1].set_title('Embarked and Survived')\n",
        "sns.countplot('Embarked',data=data,palette='mako', hue='Pclass', ax=ax[2])\n",
        "ax[2].set_title('Embarked and Pclass')"
      ]
    },
    {
      "cell_type": "code",
      "execution_count": null,
      "metadata": {
        "id": "yl-evPgcFOF9"
      },
      "outputs": [],
      "source": [
        "pd.crosstab([data['Sex'],data['Survived'],data['Embarked']],data['Pclass'],margins=True).style.background_gradient(cmap='Reds')\n",
        "# Pclass의 경우, 순서가 있는 카테고리 (ordinal features)"
      ]
    },
    {
      "cell_type": "code",
      "execution_count": null,
      "metadata": {
        "id": "1Lr-aScrCveT"
      },
      "outputs": [],
      "source": [
        "data[data['Embarked'].isnull()]"
      ]
    },
    {
      "cell_type": "code",
      "execution_count": null,
      "metadata": {
        "id": "yFjBGHgA8XBz"
      },
      "outputs": [],
      "source": [
        "print('제일 나이가 많은 탑승객:',data['Age'].max(),'세')\n",
        "print('제일 나이가 얼니 탑승객:',data['Age'].min(),'세')\n",
        "print('탑승객들의 평균 나이:',data['Age'].mean(),'세')"
      ]
    },
    {
      "cell_type": "code",
      "execution_count": null,
      "metadata": {
        "id": "5jMkZfdV97ZD"
      },
      "outputs": [],
      "source": [
        "# 히스토그램으로 표현 (나이의 분포도를 나타냄)\n",
        "plt.figure(figsize=(12,6))\n",
        "sns.histplot(x='Age',data=data, hue='Sex')"
      ]
    },
    {
      "cell_type": "code",
      "source": [
        "print('제일 비싼 티켓의 가격:',round(data['Fare'].max(),2))\n",
        "print('제일 값싼 티켓의 가격:',round(data['Fare'].min(),2))\n",
        "print('티켓의 평균 가격:',round(data['Fare'].mean(),2))"
      ],
      "metadata": {
        "id": "Qjnru2QOwUcB"
      },
      "execution_count": null,
      "outputs": []
    },
    {
      "cell_type": "code",
      "source": [
        "# 히스토그램으로 표현 (티켓가격의 분포도를 나타냄)\n",
        "plt.figure(figsize=(12,6))\n",
        "sns.histplot(x='Fare',data=data, hue='Sex')"
      ],
      "metadata": {
        "id": "8F_6BZ7xvt6w"
      },
      "execution_count": null,
      "outputs": []
    },
    {
      "cell_type": "markdown",
      "metadata": {
        "id": "9nu8j_78-k9n"
      },
      "source": [
        "## 4.결측값 핸들링"
      ]
    },
    {
      "cell_type": "code",
      "execution_count": null,
      "metadata": {
        "id": "vckxJiuz9Jb1"
      },
      "outputs": [],
      "source": [
        "# 탑승 위치\n",
        "data['Embarked'].fillna('S',inplace=True) # inplace=True 바로 결측값을 S로 채움."
      ]
    },
    {
      "cell_type": "code",
      "execution_count": null,
      "metadata": {
        "id": "CXJku9WVF6s9"
      },
      "outputs": [],
      "source": [
        "data.isnull().sum()"
      ]
    },
    {
      "cell_type": "code",
      "execution_count": null,
      "metadata": {
        "id": "4lnfVHTpF8lG"
      },
      "outputs": [],
      "source": [
        "# 나이 \n",
        "data['Name'].head(20)"
      ]
    },
    {
      "cell_type": "code",
      "execution_count": null,
      "metadata": {
        "id": "Ll2lGevyGoBB"
      },
      "outputs": [],
      "source": [
        "data['Initial'] = data['Name'].str.extract('([A-Za-z]+)\\.')\n",
        "data['Initial'].value_counts()"
      ]
    },
    {
      "cell_type": "code",
      "execution_count": null,
      "metadata": {
        "id": "au2g6YIZIIww"
      },
      "outputs": [],
      "source": [
        "# Mlle 미혼 여성을 지칭\n",
        "# Countess 백작 부인 등 - 호칭에 의해 \n",
        "# Jonkheer 귀족 층 \n",
        "data['Initial'] = data[\"Initial\"].replace([\"Mlle\", \"Mme\", \"Ms\", \"Dr\", \"Major\", \"Lady\", \"Countess\", \"Jonkheer\",\"Col\", \"Rev\", \"Capt\", \"Sir\", \"Don\"],\n",
        "                             [\"Miss\", \"Miss\", \"Miss\", \"Mr\", \"Mr\", \"Mrs\", \"Mrs\", \"Other\", \"Other\", \"Other\", \"Mr\", \"Mr\", \"Mr\"])"
      ]
    },
    {
      "cell_type": "code",
      "execution_count": null,
      "metadata": {
        "id": "PuKX031tHMYx"
      },
      "outputs": [],
      "source": [
        "data.groupby('Initial')['Age'].mean()"
      ]
    },
    {
      "cell_type": "code",
      "execution_count": null,
      "metadata": {
        "id": "ENpDurlvLfb_"
      },
      "outputs": [],
      "source": [
        "data.groupby('Initial')['Age'].median()"
      ]
    },
    {
      "cell_type": "code",
      "execution_count": null,
      "metadata": {
        "id": "gL6wFbQqKGug"
      },
      "outputs": [],
      "source": [
        "# 결측치를 이니셜/타이틀에 맞게 핸들링\n",
        "# 평균을 기준으로 결측치를 보완\n",
        "data.loc[(data['Age'].isnull())&(data['Initial'] =='Mr'),'Age'] = 33\n",
        "data.loc[(data['Age'].isnull())&(data['Initial']=='Mrs'),'Age'] = 36\n",
        "data.loc[(data['Age'].isnull())&(data['Initial']=='Master'),'Age'] = 5\n",
        "data.loc[(data['Age'].isnull())&(data['Initial']=='Miss'),'Age'] = 22\n",
        "data.loc[(data['Age'].isnull())&(data['Initial']=='Other'),'Age'] = 46"
      ]
    },
    {
      "cell_type": "code",
      "execution_count": null,
      "metadata": {
        "id": "Q1T_euyhKgFj"
      },
      "outputs": [],
      "source": [
        "data.isnull().sum()"
      ]
    },
    {
      "cell_type": "code",
      "execution_count": null,
      "metadata": {
        "id": "uSDYBcK1KgQW"
      },
      "outputs": [],
      "source": [
        "# 히스토그램으로 표현 (나이의 분포도를 나타냄)\n",
        "plt.figure(figsize=(12,6))\n",
        "sns.histplot(x='Age',data=data, hue='Survived')"
      ]
    },
    {
      "cell_type": "code",
      "execution_count": null,
      "metadata": {
        "id": "ivjJYfbLKuTD"
      },
      "outputs": [],
      "source": [
        "plt.figure(figsize=(12,6))\n",
        "sns.kdeplot(x='Age',data=data, hue='Survived')"
      ]
    },
    {
      "cell_type": "code",
      "execution_count": null,
      "metadata": {
        "id": "naTa8XdwXkpN"
      },
      "outputs": [],
      "source": [
        "# 객실 결측치\n",
        "# 따로 처리하지 않고 삭제 후 진행"
      ]
    },
    {
      "cell_type": "markdown",
      "metadata": {
        "id": "GymI4ENQK-4Q"
      },
      "source": [
        "## 5.피처 엔지니어링\n",
        "\n",
        "모델생성에 필요한 변수들을 추출 및 알맞게 변환하는 과정"
      ]
    },
    {
      "cell_type": "code",
      "source": [
        "data.head()"
      ],
      "metadata": {
        "id": "4ahywiDgx_VR"
      },
      "execution_count": null,
      "outputs": []
    },
    {
      "cell_type": "code",
      "execution_count": null,
      "metadata": {
        "id": "jQaOfaf5LDpZ"
      },
      "outputs": [],
      "source": [
        "gender_mapping = {\"male\": 0, \"female\": 1}\n",
        "data['Gender'] = data['Sex'].map(gender_mapping)"
      ]
    },
    {
      "cell_type": "code",
      "execution_count": null,
      "metadata": {
        "id": "bnchHSkoaMd_"
      },
      "outputs": [],
      "source": [
        "# 요금\n",
        "plt.figure(figsize=(12,6))\n",
        "sns.kdeplot(x='Fare',data=data, hue='Survived')"
      ]
    },
    {
      "cell_type": "code",
      "execution_count": null,
      "metadata": {
        "id": "jXi3aZuYeH-q"
      },
      "outputs": [],
      "source": [
        "pd.qcut(data['Fare'],4).unique()"
      ]
    },
    {
      "cell_type": "code",
      "execution_count": null,
      "metadata": {
        "id": "Env6oewueQRb"
      },
      "outputs": [],
      "source": [
        "data['Fare_cat']=0\n",
        "data.loc[data['Fare']<=7.91,'Fare_cat'] = 0\n",
        "data.loc[(data['Fare']>7.91)&(data['Fare']<=14.454),'Fare_cat'] = 1\n",
        "data.loc[(data['Fare']>14.454)&(data['Fare']<=31),'Fare_cat'] = 2\n",
        "data.loc[(data['Fare']>31)&(data['Fare']<=513),'Fare_cat'] = 3"
      ]
    },
    {
      "cell_type": "code",
      "execution_count": null,
      "metadata": {
        "id": "5-VWMB9lLSx3"
      },
      "outputs": [],
      "source": [
        "data.head()"
      ]
    },
    {
      "cell_type": "code",
      "execution_count": null,
      "metadata": {
        "id": "kmuZVwl43hGV"
      },
      "outputs": [],
      "source": [
        "data['Age'].median(), data['Age'].max()"
      ]
    },
    {
      "cell_type": "code",
      "execution_count": null,
      "metadata": {
        "id": "PQC-hilK2Phk"
      },
      "outputs": [],
      "source": [
        "data['Fare'].median(), data['Fare'].max()"
      ]
    },
    {
      "cell_type": "code",
      "execution_count": null,
      "metadata": {
        "id": "JtPO3xIzMkho"
      },
      "outputs": [],
      "source": [
        "# 불필요한 컬럼 제거 (필요한 열만 추출해서 사용)\n",
        "data_selected = data[['Survived','Pclass','Age','SibSp','Parch','Fare_cat','Embarked','Initial','Gender']]\n",
        "data_selected.head()"
      ]
    },
    {
      "cell_type": "code",
      "execution_count": null,
      "metadata": {
        "id": "xNHuEsLtM-0D"
      },
      "outputs": [],
      "source": [
        "correlation = data_selected.corr()\n",
        "correlation"
      ]
    },
    {
      "cell_type": "code",
      "execution_count": null,
      "metadata": {
        "id": "5YVK9TsZNDvt"
      },
      "outputs": [],
      "source": [
        "plt.figure(figsize=(10,6))\n",
        "sns.heatmap(correlation,annot=True,cmap='Reds',linewidths=0.2)"
      ]
    },
    {
      "cell_type": "code",
      "source": [
        "pd.qcut(data_selected['Age'],5).unique() # qcut: 분위수 기반으로 데이터를 나누는 과정. "
      ],
      "metadata": {
        "id": "O1PD5xUfyd5y"
      },
      "execution_count": null,
      "outputs": []
    },
    {
      "cell_type": "code",
      "source": [
        "pd.cut(data_selected['Age'],5).unique() # cut: 데이터를 동일한 길이로 나누는 과정"
      ],
      "metadata": {
        "id": "HWinFCdI1Urg"
      },
      "execution_count": null,
      "outputs": []
    },
    {
      "cell_type": "code",
      "source": [
        "data_selected['Age_band'] = pd.cut(data_selected['Age'], 5, labels=[0,1,2,3,4])\n",
        "data_selected['Age_band'] = data_selected['Age_band'].astype(int)"
      ],
      "metadata": {
        "id": "va7cAfdb1wyz"
      },
      "execution_count": null,
      "outputs": []
    },
    {
      "cell_type": "code",
      "source": [
        "data_selected.head()"
      ],
      "metadata": {
        "id": "iZvnPWYI2hK9"
      },
      "execution_count": null,
      "outputs": []
    },
    {
      "cell_type": "code",
      "execution_count": null,
      "metadata": {
        "id": "frT-Oe01NSEt"
      },
      "outputs": [],
      "source": [
        "# data_selected['Age_band'] = 0\n",
        "# data_selected.loc[data_selected['Age']<=16,'Age_band'] = 0\n",
        "# data_selected.loc[(data_selected['Age']>16)&(data_selected['Age']<=32),'Age_band'] = 1\n",
        "# data_selected.loc[(data_selected['Age']>32)&(data_selected['Age']<=48),'Age_band'] = 2\n",
        "# data_selected.loc[(data_selected['Age']>48)&(data_selected['Age']<=64),'Age_band'] = 3\n",
        "# data_selected.loc[data_selected['Age']>64,'Age_band'] = 4"
      ]
    },
    {
      "cell_type": "code",
      "execution_count": null,
      "metadata": {
        "id": "Dvkvpp_wOCG3"
      },
      "outputs": [],
      "source": [
        "correlation2 = data_selected.corr()\n",
        "plt.figure(figsize=(10,6))\n",
        "sns.heatmap(correlation2,annot=True,cmap='Reds',linewidths=0.2)"
      ]
    },
    {
      "cell_type": "code",
      "execution_count": null,
      "metadata": {
        "id": "NicNo_4KPOkG"
      },
      "outputs": [],
      "source": [
        "data_selected['FamilySize'] = 0\n",
        "data_selected[\"FamilySize\"] = data_selected[\"SibSp\"] + data_selected[\"Parch\"]\n",
        "data_selected['Alone'] = 0\n",
        "data_selected.loc[data_selected[\"FamilySize\"]==0,'Alone'] = 1 "
      ]
    },
    {
      "cell_type": "code",
      "execution_count": null,
      "metadata": {
        "id": "6qlugTjiYTqf"
      },
      "outputs": [],
      "source": [
        "data_selected.isnull().sum()"
      ]
    },
    {
      "cell_type": "code",
      "execution_count": null,
      "metadata": {
        "id": "ODQ99KqJVbEv"
      },
      "outputs": [],
      "source": [
        "plt.figure(figsize=(12,6))\n",
        "sns.kdeplot(x='FamilySize',data=data_selected, hue='Survived')"
      ]
    },
    {
      "cell_type": "code",
      "execution_count": null,
      "metadata": {
        "id": "2CA4M1wNWYdU"
      },
      "outputs": [],
      "source": [
        "data_selected[\"FamilySize\"].unique()"
      ]
    },
    {
      "cell_type": "code",
      "execution_count": null,
      "metadata": {
        "id": "2FRKO7fPV80n"
      },
      "outputs": [],
      "source": [
        "data_selected.head()"
      ]
    },
    {
      "cell_type": "code",
      "execution_count": null,
      "metadata": {
        "id": "c99U2wpiWPrC"
      },
      "outputs": [],
      "source": [
        "# 불필요한 부분 (나중에 바꿔서 테스트 해볼 수 있는 부분)\n",
        "# family_mapping = {1: 0, 2: 0.4, 3: 0.8, 4: 1.2, 5: 1.6, 6: 2, 7: 2.4, 8: 2.8, 9: 3.2, 10: 3.6, 11: 4}\n",
        "# data_selected['FamilySize'] = data_selected['FamilySize'].map(family_mapping)"
      ]
    },
    {
      "cell_type": "code",
      "execution_count": null,
      "metadata": {
        "id": "Rq5xsKKnV-0q"
      },
      "outputs": [],
      "source": [
        "data_selected = data_selected.drop(['SibSp','Parch','Age'], axis=1)\n",
        "data_selected.head()"
      ]
    },
    {
      "cell_type": "code",
      "execution_count": null,
      "metadata": {
        "id": "2GXlJZQdko4m"
      },
      "outputs": [],
      "source": [
        "#X = data_selected.drop('Survived', axis=1).copy()\n",
        "#y = data_selected[['Survived']].copy()"
      ]
    },
    {
      "cell_type": "code",
      "execution_count": null,
      "metadata": {
        "id": "1O2NG8WzllN7"
      },
      "outputs": [],
      "source": [
        "X = data_selected.copy()\n",
        "X"
      ]
    },
    {
      "cell_type": "code",
      "execution_count": null,
      "metadata": {
        "id": "FFfPrcBXXFBI"
      },
      "outputs": [],
      "source": [
        "from sklearn.preprocessing import OneHotEncoder\n",
        "from sklearn.impute import SimpleImputer\n",
        "from sklearn.compose import make_column_transformer\n",
        "ohe = OneHotEncoder()"
      ]
    },
    {
      "cell_type": "code",
      "execution_count": null,
      "metadata": {
        "id": "zff1-OS0j4Pv"
      },
      "outputs": [],
      "source": [
        "# ct = make_column_transformer(\n",
        "#     (ohe, ['Embarked', 'Initial']), remainder='passthrough') \n",
        "# ct.fit_transform(X)\n",
        "# pd.DataFrame(ohe.fit_transform(X[['Embarked', 'Initial']]).toarray())"
      ]
    },
    {
      "cell_type": "code",
      "execution_count": null,
      "metadata": {
        "id": "f70d2ZxLnBzk"
      },
      "outputs": [],
      "source": [
        "data_input = pd.get_dummies(data=X, columns=['Embarked', 'Initial'])\n",
        "data_input"
      ]
    },
    {
      "cell_type": "code",
      "execution_count": null,
      "metadata": {
        "id": "y18ihFFguHSc"
      },
      "outputs": [],
      "source": [
        "X = data_input.iloc[:, 1:]  # feature\n",
        "y = data_input.iloc[:, 0]   # label"
      ]
    },
    {
      "cell_type": "markdown",
      "metadata": {
        "id": "pKTQcqoUn9tX"
      },
      "source": [
        "## 6.모델 구현하기 + 최적의 모델 선정 (scikit-learn 사용)"
      ]
    },
    {
      "cell_type": "code",
      "execution_count": null,
      "metadata": {
        "id": "OtLbR2zdq5Rm"
      },
      "outputs": [],
      "source": [
        "from sklearn.model_selection import train_test_split\n",
        "X_train, X_test, y_train, y_test = train_test_split(X, y, test_size=0.3, random_state=2022, stratify=data_input[\"Survived\"])\n",
        "# stratify =  훈련데이터를 나눌 때 무작위로 샘플링을 하되, original dataset의 클래스 비율이 train, test set에서도 동일하게 유지"
      ]
    },
    {
      "cell_type": "code",
      "execution_count": null,
      "metadata": {
        "id": "pJB3k1_iuEY8"
      },
      "outputs": [],
      "source": [
        "display(X_train.shape, X_test.shape, y_train.shape, y_test.shape)"
      ]
    },
    {
      "cell_type": "markdown",
      "metadata": {
        "id": "256txDdTuilk"
      },
      "source": [
        "하나의 간단한 모델 구현"
      ]
    },
    {
      "cell_type": "code",
      "execution_count": null,
      "metadata": {
        "id": "zkgd6Rd4kriw"
      },
      "outputs": [],
      "source": [
        "from sklearn.linear_model import LogisticRegression\n",
        "from sklearn.model_selection import cross_val_score\n",
        "from sklearn.model_selection import KFold, StratifiedKFold, GridSearchCV\n",
        "from sklearn import metrics \n",
        "logreg = LogisticRegression()\n",
        "# k_fold = KFold(n_splits=5, shuffle=True, random_state=2022)\n",
        "k_fold = StratifiedKFold(n_splits=5, shuffle=True, random_state=2020)\n",
        "score = cross_val_score(logreg, X_train, y_train, cv=k_fold, scoring='accuracy')"
      ]
    },
    {
      "cell_type": "code",
      "execution_count": null,
      "metadata": {
        "id": "euBfjtrCoNz-"
      },
      "outputs": [],
      "source": [
        "score"
      ]
    },
    {
      "cell_type": "code",
      "execution_count": null,
      "metadata": {
        "id": "OoIcrLOavCl1"
      },
      "outputs": [],
      "source": [
        "print(score.mean())"
      ]
    },
    {
      "cell_type": "code",
      "execution_count": null,
      "metadata": {
        "id": "4b5jhZm2vxfr"
      },
      "outputs": [],
      "source": [
        "model = LogisticRegression()\n",
        "model.fit(X_train,y_train)\n",
        "prediction_lr = model.predict(X_test)\n",
        "print('The accuracy of the Logistic Regression is', metrics.accuracy_score(prediction_lr,y_test))"
      ]
    },
    {
      "cell_type": "code",
      "execution_count": null,
      "metadata": {
        "id": "tn4hTdjPoPGt"
      },
      "outputs": [],
      "source": [
        "from sklearn.neighbors import KNeighborsClassifier\n",
        "from sklearn.tree import DecisionTreeClassifier\n",
        "from sklearn.ensemble import RandomForestClassifier\n",
        "from sklearn.naive_bayes import GaussianNB\n",
        "from sklearn.svm import SVC"
      ]
    },
    {
      "cell_type": "code",
      "execution_count": null,
      "metadata": {
        "id": "3IS8k2AyrccU"
      },
      "outputs": [],
      "source": [
        "mean_cv =[]\n",
        "accuracy =[]\n",
        "std=[]\n",
        "classifiers=['Logistic Regression','Support Vector Machine','KNN','Decision Tree','Naive Bayes','Random Forest']\n",
        "models=[LogisticRegression(),SVC(kernel='rbf'),KNeighborsClassifier(n_neighbors=10),DecisionTreeClassifier(),GaussianNB(),RandomForestClassifier(n_estimators=100)] # n_estimators = 모델에서 사용할 트리 갯수\n",
        "for i in models:\n",
        "    model = i\n",
        "    cv_result = cross_val_score(model,X_train,y_train, cv = k_fold,scoring = \"accuracy\")\n",
        "    mean_cv.append(cv_result.mean())\n",
        "    std.append(cv_result.std())\n",
        "    accuracy.append(cv_result)\n",
        "models_dataframe =pd.DataFrame({'CV Mean':mean_cv,'Std':std},index=classifiers)       \n",
        "models_dataframe"
      ]
    },
    {
      "cell_type": "code",
      "source": [
        "model = SVC(kernel='rbf')\n",
        "model.fit(X_train,y_train)\n",
        "prediction_svc = model.predict(X_test)\n",
        "print('The accuracy of the Support Vector Machine is', metrics.accuracy_score(prediction_svc,y_test))"
      ],
      "metadata": {
        "id": "XroGTuFllIqs"
      },
      "execution_count": null,
      "outputs": []
    },
    {
      "cell_type": "markdown",
      "source": [
        "SVM(support vector machine)의 성능을 개선"
      ],
      "metadata": {
        "id": "XOEyx_i7igtv"
      }
    },
    {
      "cell_type": "markdown",
      "source": [
        "https://scikit-learn.org/stable/modules/generated/sklearn.svm.SVC.html"
      ],
      "metadata": {
        "id": "gN3SeHFBlYE2"
      }
    },
    {
      "cell_type": "code",
      "source": [
        "svr_params = {'kernel': ['rbf'],\n",
        "              'gamma': [0.001, 0.01, 0.1, 1],\n",
        "              'C': [1, 10, 50, 100, 200, 300, 1000]}\n",
        "svr_gridsearch = GridSearchCV(SVC(),\n",
        "                              svr_params,\n",
        "                              cv=k_fold, scoring='accuracy',n_jobs=-1)\n",
        "svr_gridsearch.fit(X_train, y_train)"
      ],
      "metadata": {
        "id": "rzLC_XTHigDO"
      },
      "execution_count": null,
      "outputs": []
    },
    {
      "cell_type": "code",
      "source": [
        "svr_gridsearch.best_score_"
      ],
      "metadata": {
        "id": "90HbBsq4l2yt"
      },
      "execution_count": null,
      "outputs": []
    },
    {
      "cell_type": "code",
      "source": [
        "svr_gridsearch.best_estimator_"
      ],
      "metadata": {
        "id": "S0rEDbJLkaG9"
      },
      "execution_count": null,
      "outputs": []
    },
    {
      "cell_type": "code",
      "source": [
        "prediction_svr = svr_gridsearch.best_estimator_.predict(X_test)\n",
        "metrics.accuracy_score(y_test, prediction_svr)"
      ],
      "metadata": {
        "id": "FsBXxLd7jnKU"
      },
      "execution_count": null,
      "outputs": []
    },
    {
      "cell_type": "code",
      "source": [
        "# 시간이 조금 소요되는 과정\n",
        "rf_params = {'max_depth': [None],\n",
        "                  'max_features': [1, 3, 10],\n",
        "                  'min_samples_split': [2, 3, 10],\n",
        "                  'min_samples_leaf': [1, 3, 10],\n",
        "                  'bootstrap': [False],\n",
        "                  'n_estimators':[100,300,500],\n",
        "                  'criterion': ['gini']}\n",
        "rf_gridsearch = GridSearchCV(RandomForestClassifier(),\n",
        "                                  rf_params,\n",
        "                                  cv=k_fold,\n",
        "                                  scoring='accuracy',\n",
        "                                  n_jobs=-1)\n",
        "rf_gridsearch.fit(X_train, y_train)"
      ],
      "metadata": {
        "id": "IOxod6aFk2-y"
      },
      "execution_count": null,
      "outputs": []
    },
    {
      "cell_type": "code",
      "source": [
        "rf_gridsearch.best_score_"
      ],
      "metadata": {
        "id": "kIY_8vs-nVWA"
      },
      "execution_count": null,
      "outputs": []
    },
    {
      "cell_type": "code",
      "source": [
        "rf_gridsearch.best_estimator_"
      ],
      "metadata": {
        "id": "OddDZwS8nWuD"
      },
      "execution_count": null,
      "outputs": []
    },
    {
      "cell_type": "code",
      "source": [
        "y_pred_rf = rf_gridsearch.best_estimator_.predict(X_test)\n",
        "metrics.accuracy_score(y_pred_rf, y_test)"
      ],
      "metadata": {
        "id": "m3iKvdGElnts"
      },
      "execution_count": null,
      "outputs": []
    },
    {
      "cell_type": "code",
      "execution_count": null,
      "metadata": {
        "id": "Wd7Qxah6yUao"
      },
      "outputs": [],
      "source": [
        "clf = RandomForestClassifier(bootstrap=False, max_features=1, min_samples_leaf=3,\n",
        "                       min_samples_split=10, n_estimators=300)\n",
        "clf.fit(X_train, y_train)\n",
        "predictions = clf.predict(X_test)\n",
        "print(metrics.accuracy_score(y_test, predictions))"
      ]
    },
    {
      "cell_type": "code",
      "source": [
        "features = pd.Series(\n",
        "    clf.feature_importances_,\n",
        "    index=X_train.columns\n",
        ").sort_values(ascending=False)\n",
        "\n",
        "print(features)"
      ],
      "metadata": {
        "id": "cbluBPSXozBG"
      },
      "execution_count": null,
      "outputs": []
    },
    {
      "cell_type": "code",
      "source": [
        "top_5_features = features.keys()[:5]\n",
        "print(top_5_features)"
      ],
      "metadata": {
        "id": "LyV9kd4Po84o"
      },
      "execution_count": null,
      "outputs": []
    },
    {
      "cell_type": "markdown",
      "metadata": {
        "id": "f4XdUtvmquhA"
      },
      "source": [
        "## 7.웹 어플리케이션 생성 및 배포"
      ]
    },
    {
      "cell_type": "code",
      "source": [
        "# df = pd.DataFrame.from_dict({'Pclass': ['1'], 'FamilySize': [2], 'Alone': ['Alone'], 'Embarked': ['S'], 'Initial': ['Mr'], 'Gender': ['female'], 'Age': [6], 'SibSp': [0], 'Parch': [0], 'Fare': [18], 'Cabin': [7]})"
      ],
      "metadata": {
        "id": "D6iQC3NdBig0"
      },
      "execution_count": null,
      "outputs": []
    },
    {
      "cell_type": "code",
      "source": [
        "def encode_age(df):\n",
        "    df['Age_band'] = 0\n",
        "    df.loc[df['Age']<=16,'Age_band'] = 0\n",
        "    df.loc[(df['Age']>16)&(df['Age']<=32),'Age_band'] = 1\n",
        "    df.loc[(df['Age']>32)&(df['Age']<=48),'Age_band'] = 2\n",
        "    df.loc[(df['Age']>48)&(df['Age']<=64),'Age_band'] = 3\n",
        "    df.loc[df['Age']>64,'Age_band'] = 4\n",
        "    return df"
      ],
      "metadata": {
        "id": "9i_GWwmvA8w1"
      },
      "execution_count": null,
      "outputs": []
    },
    {
      "cell_type": "code",
      "source": [
        "def encode_fare(df):\n",
        "    df['Fare_cat']=0\n",
        "    df.loc[df['Fare']<=7.91,'Fare_cat'] = 0\n",
        "    df.loc[(df['Fare']>7.91)&(df['Fare']<=14.454),'Fare_cat'] = 1\n",
        "    df.loc[(df['Fare']>14.454)&(df['Fare']<=31),'Fare_cat'] = 2\n",
        "    df.loc[(df['Fare']>31)&(df['Fare']<=513),'Fare_cat'] = 3\n",
        "    return df"
      ],
      "metadata": {
        "id": "1D3UCBtBB0pu"
      },
      "execution_count": null,
      "outputs": []
    },
    {
      "cell_type": "code",
      "source": [
        "def encode_embarked(df):\n",
        "  df['Embarked_S']=0\n",
        "  df['Embarked_Q']=0\n",
        "  df['Embarked_C']=0\n",
        "  if df['Embarked'].iloc[0] == 'S':\n",
        "    df['Embarked_S'].iloc[0] = 1\n",
        "  elif df['Embarked'].iloc[0] == 'Q':\n",
        "    df['Embarked_Q'].iloc[0] = 1\n",
        "  elif df['Embarked'].iloc[0] == 'C':\n",
        "    df['Embarked_C'].iloc[0] = 1\n",
        "  return df"
      ],
      "metadata": {
        "id": "jkQOKasLCTU3"
      },
      "execution_count": null,
      "outputs": []
    },
    {
      "cell_type": "code",
      "source": [
        "def encode_initial(df):\n",
        "  df['Initial_Master']=0\n",
        "  df['Initial_Miss']=0\n",
        "  df['Initial_Mr']=0\n",
        "  df['Initial_Mrs']=0\n",
        "  df['Initial_Other']=0\n",
        "  if df['Initial'].iloc[0] == 'Master':\n",
        "    df['Initial_Master'].iloc[0] = 1\n",
        "  elif df['Initial'].iloc[0] == 'Miss':\n",
        "    df['Initial_Miss'].iloc[0] = 1\n",
        "  elif df['Initial'].iloc[0] == 'Mr':\n",
        "    df['Initial_Mr'].iloc[0] = 1\n",
        "  elif df['Initial'].iloc[0] == 'Mrs':\n",
        "    df['Initial_Mrs'].iloc[0] = 1\n",
        "  elif df['Initial'].iloc[0] == 'Other':\n",
        "    df['Initial_Other'].iloc[0] = 1\n",
        "  return df"
      ],
      "metadata": {
        "id": "gpO2PZ2zCjQn"
      },
      "execution_count": null,
      "outputs": []
    },
    {
      "cell_type": "code",
      "source": [
        "def encode_gender(df):\n",
        "    mapping = {\"male\": 0, \"female\": 1}\n",
        "    return df.replace({'Gender': mapping})"
      ],
      "metadata": {
        "id": "ypGi91hbMDwi"
      },
      "execution_count": null,
      "outputs": []
    },
    {
      "cell_type": "code",
      "source": [
        "def encode_alone(df):\n",
        "    mapping = {\"With_family\": 0, \"Alone\": 1}\n",
        "    return df.replace({'Alone': mapping})"
      ],
      "metadata": {
        "id": "Ob-7o5HxMM1n"
      },
      "execution_count": null,
      "outputs": []
    },
    {
      "cell_type": "code",
      "source": [
        "def make_prediction(pclass, fare, gender, age, familysize, alone, embarked, initial):\n",
        "\n",
        "    df = pd.DataFrame.from_dict({'Pclass': [pclass], 'Fare': [fare], 'Gender': [gender], 'Age': [age], 'FamilySize': [familysize], \n",
        "                                 'Alone': [alone], 'Embarked': [embarked], 'Initial': [initial]})\n",
        "    \n",
        "    df = encode_age(df)    \n",
        "    df = encode_fare(df)    \n",
        "    df = encode_embarked(df)   \n",
        "    df = encode_initial(df)    \n",
        "    df = encode_gender(df)\n",
        "    df = encode_alone(df)      \n",
        "\n",
        "    preds = clf.predict(df[['Pclass', 'Fare_cat', 'Gender', 'Age_band',\t'FamilySize',\t'Alone',\t'Embarked_C',\t'Embarked_Q',\t'Embarked_S',\t'Initial_Master',\t'Initial_Miss',\t'Initial_Mr',\t'Initial_Mrs',\t'Initial_Other']])\n",
        "    return ['Perishes', 'Survives'][preds[0]]"
      ],
      "metadata": {
        "id": "QBCIL3iY-1fJ"
      },
      "execution_count": null,
      "outputs": []
    },
    {
      "cell_type": "code",
      "source": [
        "make_prediction(1, 80, 'female',32, 2, 0, 'S','Mrs')"
      ],
      "metadata": {
        "id": "-64DeasDN6l7"
      },
      "execution_count": null,
      "outputs": []
    },
    {
      "cell_type": "code",
      "source": [
        "pclass = gr.inputs.Radio(['1','2','3'], label=\"Pclass\")\n",
        "fare = gr.inputs.Slider(minimum=0, maximum=513, default=14, label=\"Fare\")\n",
        "gender = gr.inputs.Radio(['male','female'], label=\"Gender\")\n",
        "age = gr.inputs.Slider(minimum=0, maximum=90, default=30, label=\"Age\")\n",
        "familysize = gr.inputs.Slider(minimum=0, maximum=10, default=0, label=\"Family size\")\n",
        "alone = gr.inputs.Radio(['Alone', 'With_family'], label=\"Alone or with family \")\n",
        "embarked = gr.inputs.Radio([\"S\",\"C\",\"Q\"], label=\"Embarked at\")\n",
        "initial = gr.inputs.Radio([\"Master\",\"Miss\",\"Mr\",\"Mrs\",\"Other\"], label=\"Choose an Initial\")\n",
        "\n",
        "app = gr.Interface(make_prediction, [pclass, fare, gender, age, familysize, alone, embarked, initial],'label')\n",
        "app.launch(debug=True)"
      ],
      "metadata": {
        "id": "KXDx_mJvKwoG"
      },
      "execution_count": null,
      "outputs": []
    },
    {
      "cell_type": "code",
      "execution_count": null,
      "metadata": {
        "id": "QzKUIPwSzwqT"
      },
      "outputs": [],
      "source": [
        "app.close()"
      ]
    }
  ],
  "metadata": {
    "colab": {
      "collapsed_sections": [],
      "name": "빅데이터의이해_실습_6월8일_final.ipynb",
      "toc_visible": true,
      "provenance": []
    },
    "kernelspec": {
      "display_name": "Python 3",
      "name": "python3"
    },
    "language_info": {
      "name": "python"
    }
  },
  "nbformat": 4,
  "nbformat_minor": 0
}